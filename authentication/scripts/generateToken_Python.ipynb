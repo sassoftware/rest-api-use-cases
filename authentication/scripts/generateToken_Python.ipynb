{
 "cells": [
  {
   "cell_type": "markdown",
   "id": "3c34511e-5693-44ab-bfa6-d0843172609c",
   "metadata": {},
   "source": [
    "# Register Client and Create Access Token Notebook\n",
    "- Find detailed information about client registration and access tokens in this blog post: [Authentication to SAS Viya: a couple of approaches](https://blogs.sas.com/content/sgf/2021/09/24/authentication-to-sas-viya/)\n",
    "- Use the client_id to create an access token you can use in the Jupyter environment or externally for API calls to SAS Viya.\n",
    "- You must add the following info to the script: client_id (you create), client_secret (you create), and, baseURL (SAS Viya URL)\n",
    "- Client registration is a one time, admin task.\n",
    "- Additional access token information is found at the end of this notebook.\n",
    "\n",
    "\n",
    "### Run the cells below and follow the resulting instructions."
   ]
  },
  {
   "cell_type": "markdown",
   "id": "98dcdca2",
   "metadata": {},
   "source": [
    "# Import packages and create variables"
   ]
  },
  {
   "cell_type": "code",
   "execution_count": null,
   "id": "a48b44ae",
   "metadata": {},
   "outputs": [],
   "source": [
    "import requests\n",
    "import json\n",
    "import os\n",
    "import base64\n",
    "\n",
    "# set/create variables\n",
    "# The client_id and client_secret values are up to you\n",
    "# The client is either an application or acts on behalf of a user when making API calls\n",
    "\n",
    "client_id=\"\" #api.client\n",
    "client_secret=\"\" #api.secret\n",
    "baseURL = \"\"     # https://sasserver.sas.com"
   ]
  },
  {
   "cell_type": "markdown",
   "id": "90a31447",
   "metadata": {},
   "source": [
    "# Create access token"
   ]
  },
  {
   "cell_type": "code",
   "execution_count": null,
   "id": "791f2eac-f7c1-4c27-ac7c-27ff3f3052b7",
   "metadata": {},
   "outputs": [],
   "source": [
    "# create authorization url\n",
    "codeURL = baseURL + \"/SASLogon/oauth/authorize?client_id=\" + client_id + \"&response_type=code\"\n",
    "\n",
    "# enccode client string\n",
    "client_string = client_id + \":\" + client_secret\n",
    "message_bytes = client_string.encode('ascii')\n",
    "base64_bytes = base64.b64encode(message_bytes)\n",
    "base64_message = base64_bytes.decode('ascii')\n",
    "\n",
    "# promt with instructions and entry for auth code\n",
    "print(f\"* Please visit the following site {codeURL} in an Incognito browser window\")\n",
    "print(\"* If provided a login prompt, add your SAS login credentials with SASAdministrator rights\")\n",
    "print(\"* Once authenticated, you'll be redirected to an authoriztion screen, check all of the boxes that appear\")\n",
    "print(\"* This will result in a short string of numbers and letters such as `VAxVFVEnKr`; this is your authorization code; copy the code\")\n",
    "code = input(\"Please enter the authoriztion code you generated through the previous instructions, and then press Enter: \")\n",
    "\n",
    "# generate API call for access token\n",
    "url = f\"{baseURL}/SASLogon/oauth/token#authorization_code\"\n",
    "payload = \"grant_type=authorization_code&code=\" + code\n",
    "headers = {\n",
    "'Accept': 'application/json',\n",
    "'Content-Type': 'application/x-www-form-urlencoded',\n",
    "'Authorization': \"Basic \" + base64_message\n",
    "}\n",
    "\n",
    "# process the results\n",
    "response = requests.request(\"POST\", url, headers=headers, data=payload, verify=False)\n",
    "print(response)\n",
    "access_token = json.loads(response.text)['access_token']\n",
    "refresh_token = json.loads(response.text)['refresh_token']\n",
    "print(json.dumps(response.json(), indent=4, sort_keys=True))\n",
    "\n",
    "\n",
    "# Create access_token.txt file \n",
    "directory = os.getcwd()\n",
    "with open(directory + '/access_token.txt', 'w') as f:\n",
    "    f.write(access_token)\n",
    "print('The access token was stored for you as ' + directory + '/access_token.txt')\n",
    "\n",
    "# Create refresh_token.txt file \n",
    "directory = os.getcwd()\n",
    "with open(directory + '/refresh_token.txt', 'w') as f:\n",
    "    f.write(refresh_token)\n",
    "print('The refresh token was stored for you as ' + directory + '/refresh_token.txt')"
   ]
  },
  {
   "cell_type": "markdown",
   "id": "e810e3a2-b4ac-4ef1-ba84-8070f15c3054",
   "metadata": {},
   "source": [
    "## Notes on the access token\n",
    "- Use the refresh token to generate a new access token.\n",
    "- The authorization code is good for 30 minutes and is only good for a single use. \n",
    "- You can generate a new authorization code by reusing the authorization URL.\n",
    "- The access_token is valid in this Notebook and is transferable to other notebooks and used for external API calls."
   ]
  },
  {
   "cell_type": "markdown",
   "id": "2b08357f",
   "metadata": {},
   "source": [
    "# Use the refresh token to generate a new access token"
   ]
  },
  {
   "cell_type": "code",
   "execution_count": null,
   "id": "03f38364",
   "metadata": {
    "scrolled": true
   },
   "outputs": [],
   "source": [
    "# enccode client string\n",
    "client_string = client_id + \":\" + client_secret\n",
    "message_bytes = client_string.encode('ascii')\n",
    "base64_bytes = base64.b64encode(message_bytes)\n",
    "base64_message = base64_bytes.decode('ascii')\n",
    "\n",
    "# copy resfresh token from txtfile\n",
    "directory = os.getcwd()\n",
    "file = open(directory + \"/refresh_token.txt\")\n",
    "# read the file as a list\n",
    "refresh_token = file.readlines()\n",
    "# close the file\n",
    "file.close()\n",
    "print(refresh_token)\n",
    "type(refresh_token)\n",
    "\n",
    "url = f\"{baseURL}/SASLogon/oauth/token#refresh_token\"\n",
    "\n",
    "payload = \"grant_type=refresh_token&refresh_token=\" + ' '.join(refresh_token)\n",
    "headers = {\n",
    "  'Content-Type': 'application/x-www-form-urlencoded',\n",
    "  'Accept': 'application/json',\n",
    "  'Authorization': \"Basic \" + base64_message\n",
    "}\n",
    "\n",
    "response = requests.request(\"POST\", url, headers=headers, data=payload, verify=False)\n",
    "\n",
    "print(response.text)\n",
    "# process the results\n",
    "response = requests.request(\"POST\", url, headers=headers, data=payload, verify=False)\n",
    "access_token = json.loads(response.text)['access_token']\n",
    "print(json.dumps(response.json(), indent=4, sort_keys=True))\n",
    "\n",
    "# Create access_token.txt file \n",
    "directory = os.getcwd()\n",
    "with open(directory + '/access_token.txt', 'w') as f:\n",
    "    f.write(access_token)\n",
    "print('The access token was stored for you as ' + directory + '/access_token.txt')"
   ]
  },
  {
   "cell_type": "markdown",
   "id": "d889433c",
   "metadata": {},
   "source": [
    "# Test connection to SAS Viya via SWAT"
   ]
  },
  {
   "cell_type": "code",
   "execution_count": null,
   "id": "f4887fdb",
   "metadata": {},
   "outputs": [],
   "source": [
    "import swat\n",
    "httpconn = swat.CAS(baseURL, username=None, password=access_token, protocol=\"https\")"
   ]
  },
  {
   "cell_type": "code",
   "execution_count": null,
   "id": "144367e9",
   "metadata": {},
   "outputs": [],
   "source": [
    "httpconn"
   ]
  }
 ],
 "metadata": {
  "kernelspec": {
   "display_name": "Python 3 (ipykernel)",
   "language": "python",
   "name": "python3"
  },
  "language_info": {
   "codemirror_mode": {
    "name": "ipython",
    "version": 3
   },
   "file_extension": ".py",
   "mimetype": "text/x-python",
   "name": "python",
   "nbconvert_exporter": "python",
   "pygments_lexer": "ipython3",
   "version": "3.10.9"
  }
 },
 "nbformat": 4,
 "nbformat_minor": 5
}
